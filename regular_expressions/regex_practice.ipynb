{
 "cells": [
  {
   "cell_type": "code",
   "execution_count": 4,
   "id": "969f4544-8b57-4ee6-9bbc-914fec824d9c",
   "metadata": {},
   "outputs": [],
   "source": [
    "import re"
   ]
  },
  {
   "cell_type": "code",
   "execution_count": 6,
   "id": "f5395f35-f0b0-4b15-99e4-dc4d791a1fc6",
   "metadata": {},
   "outputs": [
    {
     "data": {
      "text/plain": [
       "['7321119999', '120']"
      ]
     },
     "execution_count": 6,
     "metadata": {},
     "output_type": "execute_result"
    }
   ],
   "source": [
    "text = \"Patient's phone is 7321119999. Bill amount is 120$\"\n",
    "\n",
    "pattern = '\\d+'\n",
    "\n",
    "match = re.findall(pattern, text)\n",
    "match"
   ]
  },
  {
   "cell_type": "code",
   "execution_count": 7,
   "id": "43549283-5a38-41de-9374-8aca064e24b2",
   "metadata": {},
   "outputs": [
    {
     "data": {
      "text/plain": [
       "['7321119999']"
      ]
     },
     "execution_count": 7,
     "metadata": {},
     "output_type": "execute_result"
    }
   ],
   "source": [
    "pattern = '\\d{10}'\n",
    "\n",
    "match = re.findall(pattern, text)\n",
    "match"
   ]
  },
  {
   "cell_type": "code",
   "execution_count": 11,
   "id": "cf582c74-b8e2-4013-87dd-3f0c54c8b355",
   "metadata": {},
   "outputs": [
    {
     "data": {
      "text/plain": [
       "['(732)-111-9999', '2345678123']"
      ]
     },
     "execution_count": 11,
     "metadata": {},
     "output_type": "execute_result"
    }
   ],
   "source": [
    "text = \"Patient's phone is (732)-111-9999, spouse phone number 2345678123 Bill amount is 120$\"\n",
    "\n",
    "pattern = \"\\(\\d{3}\\)-\\d{3}-\\d{4}|\\d{10}\"\n",
    "\n",
    "match = re.findall(pattern, text)\n",
    "match"
   ]
  },
  {
   "cell_type": "code",
   "execution_count": 14,
   "id": "b2db2b8f-6b36-4137-a09a-10e44514336b",
   "metadata": {},
   "outputs": [
    {
     "data": {
      "text/plain": [
       "<re.Match object; span=(19, 50), match='7321119999. Bill amount is 120$'>"
      ]
     },
     "execution_count": 14,
     "metadata": {},
     "output_type": "execute_result"
    }
   ],
   "source": [
    "text = \"Patient's phone is 7321119999. Bill amount is 120$\"\n",
    "\n",
    "pattern = '(\\d{10})\\D+(\\d+)\\$'\n",
    "match = re.search(pattern, text)\n",
    "match"
   ]
  },
  {
   "cell_type": "code",
   "execution_count": 16,
   "id": "ae277523-6459-4d68-a21b-02a7f23f169b",
   "metadata": {},
   "outputs": [],
   "source": [
    "phone_number, bill_amount = match.groups()"
   ]
  },
  {
   "cell_type": "code",
   "execution_count": 17,
   "id": "e7f172a5-c3c2-4c69-99eb-87eec44c7d1e",
   "metadata": {},
   "outputs": [
    {
     "data": {
      "text/plain": [
       "'7321119999'"
      ]
     },
     "execution_count": 17,
     "metadata": {},
     "output_type": "execute_result"
    }
   ],
   "source": [
    "phone_number"
   ]
  },
  {
   "cell_type": "code",
   "execution_count": 18,
   "id": "6dac8351-15c6-4c3c-b573-bae4aff0959e",
   "metadata": {},
   "outputs": [
    {
     "data": {
      "text/plain": [
       "'120'"
      ]
     },
     "execution_count": 18,
     "metadata": {},
     "output_type": "execute_result"
    }
   ],
   "source": [
    "bill_amount"
   ]
  }
 ],
 "metadata": {
  "kernelspec": {
   "display_name": "Python 3 (ipykernel)",
   "language": "python",
   "name": "python3"
  },
  "language_info": {
   "codemirror_mode": {
    "name": "ipython",
    "version": 3
   },
   "file_extension": ".py",
   "mimetype": "text/x-python",
   "name": "python",
   "nbconvert_exporter": "python",
   "pygments_lexer": "ipython3",
   "version": "3.10.11"
  }
 },
 "nbformat": 4,
 "nbformat_minor": 5
}
