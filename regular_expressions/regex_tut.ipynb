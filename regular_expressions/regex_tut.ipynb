{
 "cells": [
  {
   "cell_type": "code",
   "execution_count": 1,
   "id": "133b2931-e5f1-431a-89da-145ed4b7e393",
   "metadata": {},
   "outputs": [],
   "source": [
    "import re"
   ]
  },
  {
   "cell_type": "code",
   "execution_count": 2,
   "id": "5f2b7ea8-9e0f-4f86-bd28-9ee8e538e4b5",
   "metadata": {},
   "outputs": [],
   "source": [
    "text = '''\n",
    "Dr John Smith, M.D\n",
    "2 Non-Important Street,\n",
    "New York, Phone (000)-111-2222\n",
    "\n",
    "Name: Marta Sharapova Date: 5/11/2022\n",
    "\n",
    "Address: 9 tennis court, new Russia, DC\n",
    "\n",
    "\n",
    "\n",
    "Prednisone 20 mg\n",
    "Lialda 2.4 gram\n",
    "\n",
    "Directions:\n",
    "\n",
    "Prednisone, Taper 5 mig every 3 days,\n",
    "Finish in 2.5 weeks a\n",
    "Lialda - take 2 pill everyday for 1 month\n",
    "\n",
    "Refill: 2 times\n",
    "'''"
   ]
  },
  {
   "cell_type": "code",
   "execution_count": 13,
   "id": "e52b6bdf-bbd1-47e7-a493-2d85ce52d417",
   "metadata": {},
   "outputs": [
    {
     "data": {
      "text/plain": [
       "'Marta Sharapova'"
      ]
     },
     "execution_count": 13,
     "metadata": {},
     "output_type": "execute_result"
    }
   ],
   "source": [
    "pattern = \"Name:(.*)Date\"\n",
    "\n",
    "match = re.findall(pattern, text)\n",
    "match[0].strip()"
   ]
  },
  {
   "cell_type": "code",
   "execution_count": 14,
   "id": "28d3dfee-fc32-4c4a-84f8-f319038eed25",
   "metadata": {},
   "outputs": [
    {
     "data": {
      "text/plain": [
       "'9 tennis court, new Russia, DC'"
      ]
     },
     "execution_count": 14,
     "metadata": {},
     "output_type": "execute_result"
    }
   ],
   "source": [
    "pattern = \"Address:(.*)\\n\"\n",
    "\n",
    "match = re.findall(pattern, text)\n",
    "match[0].strip()"
   ]
  },
  {
   "cell_type": "code",
   "execution_count": 16,
   "id": "d6b40a6a-f3df-4e92-884f-6d8a5b0afdfc",
   "metadata": {},
   "outputs": [
    {
     "name": "stdout",
     "output_type": "stream",
     "text": [
      "Prednisone 20 mg\n",
      "Lialda 2.4 gram\n"
     ]
    }
   ],
   "source": [
    "pattern = \"Address:[^\\n]*(.*)Directions\"\n",
    "\n",
    "match = re.findall(pattern, text, flags = re.DOTALL)\n",
    "print(match[0].strip())"
   ]
  },
  {
   "cell_type": "code",
   "execution_count": 32,
   "id": "7b4c393f-4504-488a-bc7d-41ccc324cf7c",
   "metadata": {},
   "outputs": [
    {
     "name": "stdout",
     "output_type": "stream",
     "text": [
      "2\n"
     ]
    }
   ],
   "source": [
    "pattern = \"Refill:(.*)times\"\n",
    "\n",
    "match = re.findall(pattern, text, flags = re.DOTALL)\n",
    "print(match[0].strip())"
   ]
  },
  {
   "cell_type": "code",
   "execution_count": 4,
   "id": "5dd0481e-7c94-419e-bef1-7d5883f3d310",
   "metadata": {},
   "outputs": [
    {
     "name": "stdout",
     "output_type": "stream",
     "text": [
      "\n",
      "\n",
      "Prednisone, Taper 5 mig every 3 days,\n",
      "Finish in 2.5 weeks a\n",
      "Lialda - take 2 pill everyday for 1 month\n",
      "\n",
      "\n"
     ]
    }
   ],
   "source": [
    "pattern = \"Directions:(.*)Refill\"\n",
    "\n",
    "match = re.findall(pattern, text, flags = re.DOTALL)\n",
    "print(match[0])"
   ]
  },
  {
   "cell_type": "code",
   "execution_count": 25,
   "id": "02d93b76-7fb8-4afb-a108-610b7f4c3ce5",
   "metadata": {},
   "outputs": [
    {
     "name": "stdout",
     "output_type": "stream",
     "text": [
      "['elonmusk', 'teslarati', 'dummy_tesla', 'dummy_2_tesla']\n"
     ]
    }
   ],
   "source": [
    "text = '''\n",
    "Follow our leader Elon musk on Twitter \n",
    "here: <a href=\"https://twitter.com/elonmusk\" rel=\"nofollow\">https://twitter.com/elonmusk</a>, more information \n",
    "on Tesla's products can be found at <a href=\"https://www.tesla.com/\" rel=\"nofollow\">https://www.tesla.com/</a>. \n",
    "Also here are leading influencers for tesla-related news, \n",
    "<a href=\"https://twitter.com/teslarati\" rel=\"nofollow\">https://twitter.com/teslarati</a>\n",
    "<a href=\"https://twitter.com/dummy_tesla\" rel=\"nofollow\">https://twitter.com/dummy_tesla</a>\n",
    "<a href=\"https://twitter.com/dummy_2_tesla\" rel=\"nofollow\">https://twitter.com/dummy_2_tesla</a>\n",
    "'''\n",
    "pattern = \">https://twitter\\.com/([A-Za-z0-9_]+)\"\n",
    "\n",
    "match = re.findall(pattern, text, flags = re.DOTALL)\n",
    "print(match)"
   ]
  }
 ],
 "metadata": {
  "kernelspec": {
   "display_name": "Python 3 (ipykernel)",
   "language": "python",
   "name": "python3"
  },
  "language_info": {
   "codemirror_mode": {
    "name": "ipython",
    "version": 3
   },
   "file_extension": ".py",
   "mimetype": "text/x-python",
   "name": "python",
   "nbconvert_exporter": "python",
   "pygments_lexer": "ipython3",
   "version": "3.10.11"
  }
 },
 "nbformat": 4,
 "nbformat_minor": 5
}
